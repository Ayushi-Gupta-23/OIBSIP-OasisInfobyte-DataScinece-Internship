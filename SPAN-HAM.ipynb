{
 "cells": [
  {
   "cell_type": "markdown",
   "id": "09367d0e",
   "metadata": {},
   "source": [
    "## Email Spam detection\n",
    "\n",
    "### Email spam detection is a crucial application of machine learning and natural language processing (NLP) that involves classifying emails as either spam (unwanted or malicious) or ham (legitimate). This technology helps filter out unwanted emails from users' inboxes, saving time and reducing the risk of falling victim to scams or phishing attacks. Here's a detailed project description for building an email spam detection system:\n",
    "\n",
    "### Project Objective:\n",
    "#### The primary objective of this project is to develop a machine learning model that can accurately classify incoming emails as spam or ham based on their content and other relevant features. This helps users filter out unwanted emails and prioritize legitimate ones.\n",
    "\n",
    "### Dataset:\n",
    "#### Obtain a labeled dataset of emails, where each email is categorized as either spam or ham. "
   ]
  },
  {
   "cell_type": "markdown",
   "id": "5a789f9b",
   "metadata": {},
   "source": [
    "### Importing the header files"
   ]
  },
  {
   "cell_type": "code",
   "execution_count": 1,
   "id": "4134c493",
   "metadata": {},
   "outputs": [],
   "source": [
    "import pandas as pd\n",
    "import numpy as np"
   ]
  },
  {
   "cell_type": "markdown",
   "id": "ba3863b1",
   "metadata": {},
   "source": [
    "### Importing the dataset"
   ]
  },
  {
   "cell_type": "code",
   "execution_count": 8,
   "id": "a65c3816",
   "metadata": {},
   "outputs": [
    {
     "name": "stdout",
     "output_type": "stream",
     "text": [
      "Failed to read the CSV file with encoding: utf-8\n",
      "Successfully read the CSV file with encoding: ISO-8859-1\n"
     ]
    },
    {
     "data": {
      "text/html": [
       "<div>\n",
       "<style scoped>\n",
       "    .dataframe tbody tr th:only-of-type {\n",
       "        vertical-align: middle;\n",
       "    }\n",
       "\n",
       "    .dataframe tbody tr th {\n",
       "        vertical-align: top;\n",
       "    }\n",
       "\n",
       "    .dataframe thead th {\n",
       "        text-align: right;\n",
       "    }\n",
       "</style>\n",
       "<table border=\"1\" class=\"dataframe\">\n",
       "  <thead>\n",
       "    <tr style=\"text-align: right;\">\n",
       "      <th></th>\n",
       "      <th>v1</th>\n",
       "      <th>v2</th>\n",
       "      <th>Unnamed: 2</th>\n",
       "      <th>Unnamed: 3</th>\n",
       "      <th>Unnamed: 4</th>\n",
       "    </tr>\n",
       "  </thead>\n",
       "  <tbody>\n",
       "    <tr>\n",
       "      <th>0</th>\n",
       "      <td>ham</td>\n",
       "      <td>Go until jurong point, crazy.. Available only ...</td>\n",
       "      <td>NaN</td>\n",
       "      <td>NaN</td>\n",
       "      <td>NaN</td>\n",
       "    </tr>\n",
       "    <tr>\n",
       "      <th>1</th>\n",
       "      <td>ham</td>\n",
       "      <td>Ok lar... Joking wif u oni...</td>\n",
       "      <td>NaN</td>\n",
       "      <td>NaN</td>\n",
       "      <td>NaN</td>\n",
       "    </tr>\n",
       "    <tr>\n",
       "      <th>2</th>\n",
       "      <td>spam</td>\n",
       "      <td>Free entry in 2 a wkly comp to win FA Cup fina...</td>\n",
       "      <td>NaN</td>\n",
       "      <td>NaN</td>\n",
       "      <td>NaN</td>\n",
       "    </tr>\n",
       "    <tr>\n",
       "      <th>3</th>\n",
       "      <td>ham</td>\n",
       "      <td>U dun say so early hor... U c already then say...</td>\n",
       "      <td>NaN</td>\n",
       "      <td>NaN</td>\n",
       "      <td>NaN</td>\n",
       "    </tr>\n",
       "    <tr>\n",
       "      <th>4</th>\n",
       "      <td>ham</td>\n",
       "      <td>Nah I don't think he goes to usf, he lives aro...</td>\n",
       "      <td>NaN</td>\n",
       "      <td>NaN</td>\n",
       "      <td>NaN</td>\n",
       "    </tr>\n",
       "  </tbody>\n",
       "</table>\n",
       "</div>"
      ],
      "text/plain": [
       "     v1                                                 v2 Unnamed: 2  \\\n",
       "0   ham  Go until jurong point, crazy.. Available only ...        NaN   \n",
       "1   ham                      Ok lar... Joking wif u oni...        NaN   \n",
       "2  spam  Free entry in 2 a wkly comp to win FA Cup fina...        NaN   \n",
       "3   ham  U dun say so early hor... U c already then say...        NaN   \n",
       "4   ham  Nah I don't think he goes to usf, he lives aro...        NaN   \n",
       "\n",
       "  Unnamed: 3 Unnamed: 4  \n",
       "0        NaN        NaN  \n",
       "1        NaN        NaN  \n",
       "2        NaN        NaN  \n",
       "3        NaN        NaN  \n",
       "4        NaN        NaN  "
      ]
     },
     "execution_count": 8,
     "metadata": {},
     "output_type": "execute_result"
    }
   ],
   "source": [
    "# Try reading the CSV file with different encodings\n",
    "encodings = ['utf-8', 'ISO-8859-1', 'cp1252']\n",
    "\n",
    "for encoding in encodings:\n",
    "    try:\n",
    "        df = pd.read_csv(\"C:/Users/ayush/OneDrive/Desktop/Data sc/datasets/spam.csv\", encoding=encoding)\n",
    "        print(f\"Successfully read the CSV file with encoding: {encoding}\")\n",
    "        df.head()\n",
    "        break  # Stop trying encodings once successful\n",
    "    except UnicodeDecodeError:\n",
    "        print(f\"Failed to read the CSV file with encoding: {encoding}\")\n",
    "\n",
    "\n",
    "#df=pd.read_csv(\"C:/Users/ayush/OneDrive/Desktop/Data sc/datasets/spam.csv\")\n",
    "df.head()"
   ]
  },
  {
   "cell_type": "markdown",
   "id": "df94764f",
   "metadata": {},
   "source": [
    "### Data processing"
   ]
  },
  {
   "cell_type": "code",
   "execution_count": 16,
   "id": "6d45469f",
   "metadata": {},
   "outputs": [],
   "source": [
    "df.rename(columns={'v1': 'label'}, inplace=True)\n",
    "df.rename(columns={'v2': 'text'}, inplace=True)"
   ]
  },
  {
   "cell_type": "code",
   "execution_count": 17,
   "id": "5c3134fb",
   "metadata": {},
   "outputs": [
    {
     "data": {
      "text/plain": [
       "ham     4825\n",
       "spam     747\n",
       "Name: label, dtype: int64"
      ]
     },
     "execution_count": 17,
     "metadata": {},
     "output_type": "execute_result"
    }
   ],
   "source": [
    "df.label.value_counts()"
   ]
  },
  {
   "cell_type": "markdown",
   "id": "ee5b8455",
   "metadata": {},
   "source": [
    "### Data visualisation"
   ]
  },
  {
   "cell_type": "code",
   "execution_count": 84,
   "id": "3be0ddc1",
   "metadata": {},
   "outputs": [
    {
     "data": {
      "image/png": "[encoded data removed]",
      "text/plain": [
       "<Figure size 800x600 with 1 Axes>"
      ]
     },
     "metadata": {},
     "output_type": "display_data"
    }
   ],
   "source": [
    "import matplotlib.pyplot as plt\n",
    "\n",
    "# Calculate the value counts\n",
    "value_counts = df['label'].value_counts()\n",
    "\n",
    "# Create a bar plot\n",
    "plt.figure(figsize=(8, 6))\n",
    "value_counts.plot(kind='bar', color='skyblue')\n",
    "plt.title('Label Distribution')\n",
    "plt.xlabel('Label')\n",
    "plt.ylabel('Count')\n",
    "plt.xticks(rotation=0)\n",
    "plt.show()"
   ]
  },
  {
   "cell_type": "code",
   "execution_count": 85,
   "id": "b8798f84",
   "metadata": {},
   "outputs": [
    {
     "data": {
      "image/png": "[encoded data removed]",
      "text/plain": [
       "<Figure size 600x600 with 1 Axes>"
      ]
     },
     "metadata": {},
     "output_type": "display_data"
    }
   ],
   "source": [
    "# Create a pie chart\n",
    "plt.figure(figsize=(6, 6))\n",
    "plt.pie(value_counts, labels=value_counts.index, autopct='%1.1f%%', colors=['lightcoral', 'lightgreen'])\n",
    "plt.title('Label Distribution')\n",
    "plt.show()"
   ]
  },
  {
   "cell_type": "code",
   "execution_count": 18,
   "id": "d74a053e",
   "metadata": {},
   "outputs": [
    {
     "data": {
      "text/plain": [
       "(5572, 5)"
      ]
     },
     "execution_count": 18,
     "metadata": {},
     "output_type": "execute_result"
    }
   ],
   "source": [
    "df.shape"
   ]
  },
  {
   "cell_type": "code",
   "execution_count": 27,
   "id": "5fd8bf7f",
   "metadata": {},
   "outputs": [
    {
     "name": "stdout",
     "output_type": "stream",
     "text": [
      "     label                                               text  label_num\n",
      "0      ham  Go until jurong point, crazy.. Available only ...          0\n",
      "1      ham                      Ok lar... Joking wif u oni...          0\n",
      "2     spam  Free entry in 2 a wkly comp to win FA Cup fina...          1\n",
      "3      ham  U dun say so early hor... U c already then say...          0\n",
      "4      ham  Nah I don't think he goes to usf, he lives aro...          0\n",
      "...    ...                                                ...        ...\n",
      "5567  spam  This is the 2nd time we have tried 2 contact u...          1\n",
      "5568   ham              Will Ì_ b going to esplanade fr home?          0\n",
      "5569   ham  Pity, * was in mood for that. So...any other s...          0\n",
      "5570   ham  The guy did some bitching but I acted like i'd...          0\n",
      "5571   ham                         Rofl. Its true to its name          0\n",
      "\n",
      "[5572 rows x 3 columns]\n"
     ]
    }
   ],
   "source": [
    "# Drop the specified columns without square brackets\n",
    "columns_to_drop = ['Unnamed: 2', 'Unnamed: 3', 'Unnamed: 4']\n",
    "df = df.drop(columns=columns_to_drop)\n",
    "\n",
    "# Display the DataFrame after dropping columns\n",
    "print(df)"
   ]
  },
  {
   "cell_type": "code",
   "execution_count": 28,
   "id": "35b16705",
   "metadata": {},
   "outputs": [
    {
     "data": {
      "text/html": [
       "<div>\n",
       "<style scoped>\n",
       "    .dataframe tbody tr th:only-of-type {\n",
       "        vertical-align: middle;\n",
       "    }\n",
       "\n",
       "    .dataframe tbody tr th {\n",
       "        vertical-align: top;\n",
       "    }\n",
       "\n",
       "    .dataframe thead th {\n",
       "        text-align: right;\n",
       "    }\n",
       "</style>\n",
       "<table border=\"1\" class=\"dataframe\">\n",
       "  <thead>\n",
       "    <tr style=\"text-align: right;\">\n",
       "      <th></th>\n",
       "      <th>label</th>\n",
       "      <th>text</th>\n",
       "      <th>label_num</th>\n",
       "    </tr>\n",
       "  </thead>\n",
       "  <tbody>\n",
       "    <tr>\n",
       "      <th>0</th>\n",
       "      <td>ham</td>\n",
       "      <td>Go until jurong point, crazy.. Available only ...</td>\n",
       "      <td>0</td>\n",
       "    </tr>\n",
       "    <tr>\n",
       "      <th>1</th>\n",
       "      <td>ham</td>\n",
       "      <td>Ok lar... Joking wif u oni...</td>\n",
       "      <td>0</td>\n",
       "    </tr>\n",
       "    <tr>\n",
       "      <th>2</th>\n",
       "      <td>spam</td>\n",
       "      <td>Free entry in 2 a wkly comp to win FA Cup fina...</td>\n",
       "      <td>1</td>\n",
       "    </tr>\n",
       "    <tr>\n",
       "      <th>3</th>\n",
       "      <td>ham</td>\n",
       "      <td>U dun say so early hor... U c already then say...</td>\n",
       "      <td>0</td>\n",
       "    </tr>\n",
       "    <tr>\n",
       "      <th>4</th>\n",
       "      <td>ham</td>\n",
       "      <td>Nah I don't think he goes to usf, he lives aro...</td>\n",
       "      <td>0</td>\n",
       "    </tr>\n",
       "  </tbody>\n",
       "</table>\n",
       "</div>"
      ],
      "text/plain": [
       "  label                                               text  label_num\n",
       "0   ham  Go until jurong point, crazy.. Available only ...          0\n",
       "1   ham                      Ok lar... Joking wif u oni...          0\n",
       "2  spam  Free entry in 2 a wkly comp to win FA Cup fina...          1\n",
       "3   ham  U dun say so early hor... U c already then say...          0\n",
       "4   ham  Nah I don't think he goes to usf, he lives aro...          0"
      ]
     },
     "execution_count": 28,
     "metadata": {},
     "output_type": "execute_result"
    }
   ],
   "source": [
    "# Create a new column 'label_numl' based on 'Label'\n",
    "df['label_num'] = df['label'].apply(lambda x: 1 if x == 'spam' else 0)\n",
    "df.head()"
   ]
  },
  {
   "cell_type": "markdown",
   "id": "80c85885",
   "metadata": {},
   "source": [
    "### Training the dataset"
   ]
  },
  {
   "cell_type": "code",
   "execution_count": 29,
   "id": "971cba3c",
   "metadata": {},
   "outputs": [],
   "source": [
    "#x is dependent , y is independent , x is text and y is label_num\n",
    "from sklearn.model_selection import train_test_split\n",
    "X_train,X_test,y_train,y_test=train_test_split(df.text,df.label_num,test_size=0.2)"
   ]
  },
  {
   "cell_type": "code",
   "execution_count": 30,
   "id": "113f4ea2",
   "metadata": {},
   "outputs": [
    {
     "data": {
      "text/plain": [
       "(4457,)"
      ]
     },
     "execution_count": 30,
     "metadata": {},
     "output_type": "execute_result"
    }
   ],
   "source": [
    "X_train.shape"
   ]
  },
  {
   "cell_type": "code",
   "execution_count": 31,
   "id": "549d39a5",
   "metadata": {},
   "outputs": [
    {
     "data": {
      "text/plain": [
       "(1115,)"
      ]
     },
     "execution_count": 31,
     "metadata": {},
     "output_type": "execute_result"
    }
   ],
   "source": [
    "X_test.shape"
   ]
  },
  {
   "cell_type": "code",
   "execution_count": 32,
   "id": "7ea0ee02",
   "metadata": {},
   "outputs": [
    {
     "data": {
      "text/plain": [
       "pandas.core.series.Series"
      ]
     },
     "execution_count": 32,
     "metadata": {},
     "output_type": "execute_result"
    }
   ],
   "source": [
    "type(X_train)"
   ]
  },
  {
   "cell_type": "code",
   "execution_count": 33,
   "id": "fd0e0cf1",
   "metadata": {},
   "outputs": [
    {
     "data": {
      "text/plain": [
       "1119    Bored of speed dating? Try SPEEDCHAT, txt SPEE...\n",
       "250          Ranjith cal drpd Deeraj and deepak 5min hold\n",
       "2278    Hmm...Bad news...Hype park plaza $700 studio t...\n",
       "1792    WIN: We have a winner! Mr. T. Foley won an iPo...\n",
       "Name: text, dtype: object"
      ]
     },
     "execution_count": 33,
     "metadata": {},
     "output_type": "execute_result"
    }
   ],
   "source": [
    "X_train[:4]"
   ]
  },
  {
   "cell_type": "code",
   "execution_count": 35,
   "id": "cf867673",
   "metadata": {},
   "outputs": [
    {
     "data": {
      "text/plain": [
       "'Hmm...Bad news...Hype park plaza $700 studio taken...Only left 2 bedrm-$900...'"
      ]
     },
     "execution_count": 35,
     "metadata": {},
     "output_type": "execute_result"
    }
   ],
   "source": [
    "X_train[:4][2278]"
   ]
  },
  {
   "cell_type": "code",
   "execution_count": 36,
   "id": "f9f1707a",
   "metadata": {},
   "outputs": [
    {
     "data": {
      "text/plain": [
       "pandas.core.series.Series"
      ]
     },
     "execution_count": 36,
     "metadata": {},
     "output_type": "execute_result"
    }
   ],
   "source": [
    "type(y_train)"
   ]
  },
  {
   "cell_type": "code",
   "execution_count": 37,
   "id": "6516e903",
   "metadata": {},
   "outputs": [
    {
     "data": {
      "text/plain": [
       "1119    1\n",
       "250     0\n",
       "2278    0\n",
       "1792    1\n",
       "Name: label_num, dtype: int64"
      ]
     },
     "execution_count": 37,
     "metadata": {},
     "output_type": "execute_result"
    }
   ],
   "source": [
    "y_train[:4]"
   ]
  },
  {
   "cell_type": "code",
   "execution_count": 38,
   "id": "96b1cf3f",
   "metadata": {},
   "outputs": [
    {
     "data": {
      "text/plain": [
       "numpy.ndarray"
      ]
     },
     "execution_count": 38,
     "metadata": {},
     "output_type": "execute_result"
    }
   ],
   "source": [
    "type(X_train.values)"
   ]
  },
  {
   "cell_type": "markdown",
   "id": "84df9c59",
   "metadata": {},
   "source": [
    "### Using Natural Language Processing \n",
    "\n",
    "#### Converting words to matrix"
   ]
  },
  {
   "cell_type": "code",
   "execution_count": 39,
   "id": "a6ea422c",
   "metadata": {},
   "outputs": [
    {
     "data": {
      "text/plain": [
       "<4457x7744 sparse matrix of type '<class 'numpy.int64'>'\n",
       "\twith 58600 stored elements in Compressed Sparse Row format>"
      ]
     },
     "execution_count": 39,
     "metadata": {},
     "output_type": "execute_result"
    }
   ],
   "source": [
    "#Getting the matrix of words\n",
    "from sklearn.feature_extraction.text import CountVectorizer\n",
    "v=CountVectorizer()\n",
    "X_train_cv=v.fit_transform(X_train.values)\n",
    "X_train_cv"
   ]
  },
  {
   "cell_type": "code",
   "execution_count": 40,
   "id": "61085da9",
   "metadata": {},
   "outputs": [
    {
     "data": {
      "text/plain": [
       "array([[0, 0, 0, ..., 0, 0, 0],\n",
       "       [0, 0, 0, ..., 0, 0, 0],\n",
       "       [0, 0, 0, ..., 0, 0, 0],\n",
       "       ...,\n",
       "       [0, 0, 0, ..., 0, 0, 0],\n",
       "       [0, 0, 0, ..., 0, 0, 0],\n",
       "       [0, 0, 0, ..., 0, 0, 0]], dtype=int64)"
      ]
     },
     "execution_count": 40,
     "metadata": {},
     "output_type": "execute_result"
    }
   ],
   "source": [
    "X_train_cv.toarray()"
   ]
  },
  {
   "cell_type": "code",
   "execution_count": 41,
   "id": "2477c6b6",
   "metadata": {},
   "outputs": [
    {
     "data": {
      "text/plain": [
       "array([0, 0, 0, ..., 0, 0, 0], dtype=int64)"
      ]
     },
     "execution_count": 41,
     "metadata": {},
     "output_type": "execute_result"
    }
   ],
   "source": [
    "X_train_cv.toarray()[:2][0]"
   ]
  },
  {
   "cell_type": "code",
   "execution_count": 42,
   "id": "2da5858f",
   "metadata": {},
   "outputs": [
    {
     "data": {
      "text/plain": [
       "(4457, 7744)"
      ]
     },
     "execution_count": 42,
     "metadata": {},
     "output_type": "execute_result"
    }
   ],
   "source": [
    "X_train_cv.shape"
   ]
  },
  {
   "cell_type": "code",
   "execution_count": 43,
   "id": "27ceaa51",
   "metadata": {},
   "outputs": [
    {
     "data": {
      "text/plain": [
       "array(['00', '000', '000pes', ..., 'ûï', 'ûò', 'ûówell'], dtype=object)"
      ]
     },
     "execution_count": 43,
     "metadata": {},
     "output_type": "execute_result"
    }
   ],
   "source": [
    "v.get_feature_names_out()"
   ]
  },
  {
   "cell_type": "code",
   "execution_count": 44,
   "id": "81b88156",
   "metadata": {},
   "outputs": [
    {
     "data": {
      "text/plain": [
       "(7744,)"
      ]
     },
     "execution_count": 44,
     "metadata": {},
     "output_type": "execute_result"
    }
   ],
   "source": [
    "v.get_feature_names_out().shape  #vocabulary"
   ]
  },
  {
   "cell_type": "code",
   "execution_count": 45,
   "id": "71a15743",
   "metadata": {},
   "outputs": [
    {
     "data": {
      "text/plain": [
       "['__annotations__',\n",
       " '__class__',\n",
       " '__delattr__',\n",
       " '__dict__',\n",
       " '__dir__',\n",
       " '__doc__',\n",
       " '__eq__',\n",
       " '__format__',\n",
       " '__ge__',\n",
       " '__getattribute__',\n",
       " '__getstate__',\n",
       " '__gt__',\n",
       " '__hash__',\n",
       " '__init__',\n",
       " '__init_subclass__',\n",
       " '__le__',\n",
       " '__lt__',\n",
       " '__module__',\n",
       " '__ne__',\n",
       " '__new__',\n",
       " '__reduce__',\n",
       " '__reduce_ex__',\n",
       " '__repr__',\n",
       " '__setattr__',\n",
       " '__setstate__',\n",
       " '__sizeof__',\n",
       " '__str__',\n",
       " '__subclasshook__',\n",
       " '__weakref__',\n",
       " '_char_ngrams',\n",
       " '_char_wb_ngrams',\n",
       " '_check_feature_names',\n",
       " '_check_n_features',\n",
       " '_check_stop_words_consistency',\n",
       " '_check_vocabulary',\n",
       " '_count_vocab',\n",
       " '_get_param_names',\n",
       " '_get_tags',\n",
       " '_limit_features',\n",
       " '_more_tags',\n",
       " '_parameter_constraints',\n",
       " '_repr_html_',\n",
       " '_repr_html_inner',\n",
       " '_repr_mimebundle_',\n",
       " '_sort_features',\n",
       " '_stop_words_id',\n",
       " '_validate_data',\n",
       " '_validate_ngram_range',\n",
       " '_validate_params',\n",
       " '_validate_vocabulary',\n",
       " '_warn_for_unused_params',\n",
       " '_white_spaces',\n",
       " '_word_ngrams',\n",
       " 'analyzer',\n",
       " 'binary',\n",
       " 'build_analyzer',\n",
       " 'build_preprocessor',\n",
       " 'build_tokenizer',\n",
       " 'decode',\n",
       " 'decode_error',\n",
       " 'dtype',\n",
       " 'encoding',\n",
       " 'fit',\n",
       " 'fit_transform',\n",
       " 'fixed_vocabulary_',\n",
       " 'get_feature_names_out',\n",
       " 'get_params',\n",
       " 'get_stop_words',\n",
       " 'input',\n",
       " 'inverse_transform',\n",
       " 'lowercase',\n",
       " 'max_df',\n",
       " 'max_features',\n",
       " 'min_df',\n",
       " 'ngram_range',\n",
       " 'preprocessor',\n",
       " 'set_params',\n",
       " 'stop_words',\n",
       " 'stop_words_',\n",
       " 'strip_accents',\n",
       " 'token_pattern',\n",
       " 'tokenizer',\n",
       " 'transform',\n",
       " 'vocabulary',\n",
       " 'vocabulary_']"
      ]
     },
     "execution_count": 45,
     "metadata": {},
     "output_type": "execute_result"
    }
   ],
   "source": [
    "dir(v)"
   ]
  },
  {
   "cell_type": "code",
   "execution_count": 46,
   "id": "18a8e035",
   "metadata": {},
   "outputs": [
    {
     "data": {
      "text/plain": [
       "{'bored': 1440,\n",
       " 'of': 4870,\n",
       " 'speed': 6349,\n",
       " 'dating': 2175,\n",
       " 'try': 7039,\n",
       " 'speedchat': 6350,\n",
       " 'txt': 7077,\n",
       " 'to': 6915,\n",
       " '80155': 645,\n",
       " 'if': 3596,\n",
       " 'you': 7688,\n",
       " 'don': 2409,\n",
       " 'like': 4105,\n",
       " 'em': 2562,\n",
       " 'swap': 6627,\n",
       " 'and': 968,\n",
       " 'get': 3110,\n",
       " 'new': 4740,\n",
       " 'chatter': 1749,\n",
       " 'chat80155': 1747,\n",
       " 'pobox36504w45wq': 5244,\n",
       " '150p': 308,\n",
       " 'msg': 4603,\n",
       " 'rcd': 5555,\n",
       " '16': 319,\n",
       " 'ranjith': 5542,\n",
       " 'cal': 1603,\n",
       " 'drpd': 2467,\n",
       " 'deeraj': 2216,\n",
       " 'deepak': 2213,\n",
       " '5min': 563,\n",
       " 'hold': 3460,\n",
       " 'hmm': 3447,\n",
       " 'bad': 1198,\n",
       " 'news': 4744,\n",
       " 'hype': 3565,\n",
       " 'park': 5062,\n",
       " 'plaza': 5219,\n",
       " '700': 613,\n",
       " 'studio': 6521,\n",
       " 'taken': 6672,\n",
       " 'only': 4921,\n",
       " 'left': 4061,\n",
       " 'bedrm': 1285,\n",
       " '900': 730,\n",
       " 'win': 7502,\n",
       " 'we': 7396,\n",
       " 'have': 3353,\n",
       " 'winner': 7513,\n",
       " 'mr': 4598,\n",
       " 'foley': 2917,\n",
       " 'won': 7558,\n",
       " 'an': 963,\n",
       " 'ipod': 3729,\n",
       " 'more': 4570,\n",
       " 'exciting': 2689,\n",
       " 'prizes': 5401,\n",
       " 'soon': 6299,\n",
       " 'so': 6259,\n",
       " 'keep': 3907,\n",
       " 'eye': 2729,\n",
       " 'on': 4910,\n",
       " 'ur': 7184,\n",
       " 'mobile': 4528,\n",
       " 'or': 4952,\n",
       " 'visit': 7289,\n",
       " 'www': 7623,\n",
       " '82050': 657,\n",
       " 'co': 1874,\n",
       " 'uk': 7105,\n",
       " 'in': 3633,\n",
       " 'town': 6981,\n",
       " 'now': 4821,\n",
       " 'll': 4157,\n",
       " 'jus': 3870,\n",
       " 'take': 6670,\n",
       " 'mrt': 4601,\n",
       " 'down': 2430,\n",
       " 'later': 4026,\n",
       " 'will': 7499,\n",
       " 'send': 5987,\n",
       " 'them': 6806,\n",
       " 'your': 7693,\n",
       " 'email': 2563,\n",
       " 'do': 2376,\n",
       " 'mind': 4475,\n",
       " 'lt': 4243,\n",
       " 'gt': 3258,\n",
       " 'times': 6886,\n",
       " 'per': 5123,\n",
       " 'night': 4759,\n",
       " 'pls': 5228,\n",
       " 'drink': 2452,\n",
       " 'plenty': 5225,\n",
       " 'water': 7382,\n",
       " 'yes': 7671,\n",
       " 'trust': 7036,\n",
       " 'buy': 1583,\n",
       " 'stuff': 6525,\n",
       " 'asap': 1087,\n",
       " 'can': 1633,\n",
       " 'it': 3752,\n",
       " 'out': 4988,\n",
       " 'no': 4775,\n",
       " 'got': 3193,\n",
       " 'rumour': 5832,\n",
       " 'that': 6794,\n",
       " 'going': 3166,\n",
       " 'apartment': 1014,\n",
       " 'chennai': 1771,\n",
       " 'wot': 7587,\n",
       " 'up': 7167,\n",
       " 'customer': 2127,\n",
       " 'may': 4390,\n",
       " 'claim': 1829,\n",
       " 'free': 2981,\n",
       " 'camera': 1630,\n",
       " 'phone': 5164,\n",
       " 'upgrade': 7174,\n",
       " 'pay': 5096,\n",
       " 'go': 3153,\n",
       " 'sim': 6141,\n",
       " 'card': 1653,\n",
       " 'for': 2936,\n",
       " 'loyalty': 4238,\n",
       " 'call': 1609,\n",
       " '0845': 67,\n",
       " '021': 13,\n",
       " '3680': 453,\n",
       " 'offer': 4875,\n",
       " 'ends': 2581,\n",
       " '28thfeb': 387,\n",
       " 'apply': 1031,\n",
       " 'should': 6096,\n",
       " 'head': 3362,\n",
       " 'straight': 6490,\n",
       " 'there': 6815,\n",
       " 'what': 7456,\n",
       " 'moji': 4543,\n",
       " 'just': 3871,\n",
       " 'informed': 3669,\n",
       " 'me': 4397,\n",
       " 'saved': 5899,\n",
       " 'our': 4985,\n",
       " 'lives': 4153,\n",
       " 'thanks': 6786,\n",
       " 'hi': 3420,\n",
       " 'finally': 2848,\n",
       " 'completed': 1936,\n",
       " 'the': 6800,\n",
       " 'course': 2045,\n",
       " 'quite': 5507,\n",
       " 'know': 3960,\n",
       " 'still': 6462,\n",
       " 'anyone': 1001,\n",
       " 'cud': 2107,\n",
       " 'pick': 5177,\n",
       " 'bout': 1453,\n",
       " '30pm': 439,\n",
       " 'see': 5961,\n",
       " 'they': 6820,\n",
       " 're': 5561,\n",
       " 'pub': 5460,\n",
       " 'fine': 2854,\n",
       " 'hope': 3486,\n",
       " 'are': 1052,\n",
       " 'good': 3177,\n",
       " 'care': 1656,\n",
       " 'doing': 2399,\n",
       " 'langport': 4011,\n",
       " 'sorry': 6308,\n",
       " 'but': 1579,\n",
       " 'probably': 5405,\n",
       " 'be': 1271,\n",
       " 'bed': 1284,\n",
       " 'by': 1591,\n",
       " '9pm': 747,\n",
       " 'sucks': 6557,\n",
       " 'being': 1307,\n",
       " 'ill': 3608,\n",
       " 'at': 1115,\n",
       " 'xmas': 7634,\n",
       " 'when': 7463,\n",
       " 'go2sri': 3155,\n",
       " 'lanka': 4013,\n",
       " 'okie': 4899,\n",
       " 'scared': 5911,\n",
       " 'say': 5903,\n",
       " 'fat': 2779,\n",
       " 'then': 6810,\n",
       " 'dun': 2488,\n",
       " 'wan': 7353,\n",
       " 'already': 932,\n",
       " 'hair': 3298,\n",
       " 'cream': 2071,\n",
       " 'has': 3343,\n",
       " 'not': 4808,\n",
       " 'been': 1289,\n",
       " 'shipped': 6067,\n",
       " 'well': 7435,\n",
       " 'must': 4637,\n",
       " 'pain': 5033,\n",
       " 'catch': 1685,\n",
       " 'hey': 3416,\n",
       " 'congrats': 1964,\n",
       " '2u2': 423,\n",
       " 'id': 3584,\n",
       " 'luv': 4261,\n",
       " 'ive': 3765,\n",
       " 'had': 3291,\n",
       " 'home': 3469,\n",
       " 'yup': 7713,\n",
       " 'izzit': 3769,\n",
       " 'raining': 5522,\n",
       " 'heavily': 3382,\n",
       " 'cos': 2019,\n",
       " 'outside': 4999,\n",
       " 'whos': 7480,\n",
       " 'this': 6836,\n",
       " 'am': 942,\n",
       " 'class': 1837,\n",
       " 'dunno': 2489,\n",
       " 'lei': 4067,\n",
       " 'shd': 6050,\n",
       " 'driving': 2460,\n",
       " 'lor': 4199,\n",
       " 'sch': 5914,\n",
       " 'hr': 3526,\n",
       " 'oni': 4917,\n",
       " 'want': 7357,\n",
       " 'video': 7268,\n",
       " 'handset': 3315,\n",
       " '750': 621,\n",
       " 'any': 997,\n",
       " 'time': 6885,\n",
       " 'network': 4734,\n",
       " 'mins': 4486,\n",
       " 'unlimited': 7153,\n",
       " 'text': 6769,\n",
       " 'camcorder': 1628,\n",
       " 'reply': 5689,\n",
       " '08000930705': 54,\n",
       " 'del': 2227,\n",
       " 'sat': 5890,\n",
       " 'always': 940,\n",
       " 'online': 4919,\n",
       " 'yahoo': 7648,\n",
       " 'would': 7590,\n",
       " 'chat': 1746,\n",
       " 'with': 7530,\n",
       " 'someday': 6277,\n",
       " 'dear': 2191,\n",
       " 'messages': 4447,\n",
       " 'without': 7534,\n",
       " 'recharge': 5603,\n",
       " 'nosy': 4807,\n",
       " 'guess': 3265,\n",
       " 'idk': 3593,\n",
       " 'over': 5004,\n",
       " 'reacting': 5565,\n",
       " 'freaked': 2978,\n",
       " 'belive': 1309,\n",
       " 'come': 1911,\n",
       " 'my': 4646,\n",
       " 'ugh': 7100,\n",
       " 'apologize': 1021,\n",
       " 'admit': 835,\n",
       " 'were': 7443,\n",
       " 'wrong': 7608,\n",
       " 'ask': 1094,\n",
       " 'back': 1195,\n",
       " 'yeah': 7660,\n",
       " 'open': 4933,\n",
       " 'click': 1849,\n",
       " 'friend': 3001,\n",
       " 'lists': 4144,\n",
       " 'make': 4318,\n",
       " 'list': 4136,\n",
       " 'easy': 2513,\n",
       " 'as': 1085,\n",
       " 'pie': 5184,\n",
       " 'how': 3516,\n",
       " 'about': 769,\n",
       " '100': 263,\n",
       " 'half': 3302,\n",
       " 'price': 5380,\n",
       " 'line': 4119,\n",
       " 'rental': 5677,\n",
       " '0800': 50,\n",
       " '0721072': 28,\n",
       " 'find': 2851,\n",
       " 'doin': 2397,\n",
       " 'baby': 1191,\n",
       " 'girl': 3131,\n",
       " 'okay': 4895,\n",
       " 'every': 2658,\n",
       " 'ure': 7186,\n",
       " 'is': 3741,\n",
       " 'off': 4872,\n",
       " 'miss': 4497,\n",
       " 'touch': 6975,\n",
       " 'problem': 5406,\n",
       " 'renewal': 5674,\n",
       " 'right': 5756,\n",
       " 'away': 1168,\n",
       " 'dont': 2413,\n",
       " 'his': 3435,\n",
       " 'details': 2276,\n",
       " 'january': 3791,\n",
       " 'male': 4324,\n",
       " 'sale': 5863,\n",
       " 'hot': 3504,\n",
       " 'gay': 3081,\n",
       " 'cheaper': 1752,\n",
       " '08709222922': 93,\n",
       " 'national': 4688,\n",
       " 'rate': 5545,\n",
       " 'from': 3013,\n",
       " '5p': 565,\n",
       " 'min': 4472,\n",
       " 'cheap': 1751,\n",
       " '8p': 726,\n",
       " 'peak': 5111,\n",
       " 'stop': 6474,\n",
       " 'texts': 6779,\n",
       " '08712460324': 113,\n",
       " '10p': 272,\n",
       " 'congratulation': 1965,\n",
       " 'gd': 3088,\n",
       " 'ice': 3579,\n",
       " 'oso': 4975,\n",
       " 'entry': 2609,\n",
       " 'into': 3709,\n",
       " '250': 375,\n",
       " 'weekly': 7423,\n",
       " 'comp': 1925,\n",
       " 'word': 7572,\n",
       " '80086': 644,\n",
       " '18': 324,\n",
       " 'txttowin': 7088,\n",
       " 'very': 7258,\n",
       " 'inconvenient': 3646,\n",
       " 'sis': 6161,\n",
       " 'huh': 3541,\n",
       " 'fri': 2997,\n",
       " 'ah': 880,\n",
       " 'goin': 3164,\n",
       " 'drivin': 2459,\n",
       " 'den': 2242,\n",
       " 'shoppin': 6083,\n",
       " 'after': 864,\n",
       " 'tt': 7049,\n",
       " 'unsubscribe': 7162,\n",
       " 'yet': 7674,\n",
       " 'mob': 4526,\n",
       " 'package': 5026,\n",
       " 'term': 6753,\n",
       " '54': 558,\n",
       " 'weeks': 7424,\n",
       " 'resubmit': 5728,\n",
       " 'request': 5695,\n",
       " 'expiry': 2714,\n",
       " 'themob': 6809,\n",
       " 'help': 3395,\n",
       " 'info': 3666,\n",
       " 'damn': 2151,\n",
       " 'tonight': 6948,\n",
       " 'wait': 7334,\n",
       " 'til': 6882,\n",
       " 'tomorrow': 6940,\n",
       " 'shoot': 6081,\n",
       " 'docs': 2381,\n",
       " 'waiting': 7337,\n",
       " 'room': 5795,\n",
       " 'she': 6051,\n",
       " 'called': 1615,\n",
       " 'saying': 5904,\n",
       " 'order': 4959,\n",
       " 'slippers': 6207,\n",
       " 'returning': 5736,\n",
       " 'billy': 1356,\n",
       " 'mates': 4372,\n",
       " 'all': 920,\n",
       " 'gone': 3173,\n",
       " 'jogging': 3832,\n",
       " 'again': 869,\n",
       " 'did': 2301,\n",
       " 'enjoy': 2591,\n",
       " 'concert': 1953,\n",
       " 'mu': 4616,\n",
       " 'sorting': 6312,\n",
       " 'narcotics': 4679,\n",
       " 'situation': 6170,\n",
       " 'sending': 5989,\n",
       " 'mental': 4436,\n",
       " 'ability': 764,\n",
       " 'question': 5500,\n",
       " 'love': 4220,\n",
       " 'excited': 2688,\n",
       " 'each': 2499,\n",
       " 'day': 2179,\n",
       " 'spend': 6356,\n",
       " 'happy': 3334,\n",
       " 'haven': 3354,\n",
       " 'found': 2965,\n",
       " 'way': 7391,\n",
       " 'another': 984,\n",
       " 'app': 1023,\n",
       " 'eh': 2542,\n",
       " 'net': 4729,\n",
       " 'cafe': 1599,\n",
       " 'job': 3827,\n",
       " 'geeee': 3091,\n",
       " 'need': 4711,\n",
       " 'babe': 1188,\n",
       " 'crave': 2066,\n",
       " 'search': 5944,\n",
       " 'happiness': 3333,\n",
       " 'main': 4314,\n",
       " 'sources': 6325,\n",
       " 'unhappiness': 7138,\n",
       " 'accept': 784,\n",
       " 'life': 4094,\n",
       " 'comes': 1913,\n",
       " 'moment': 4548,\n",
       " 'live': 4149,\n",
       " 'captain': 1650,\n",
       " 'nimbomsons': 4766,\n",
       " 'yep': 7669,\n",
       " 'knows': 3962,\n",
       " 'one': 4915,\n",
       " 'obviously': 4861,\n",
       " 'thats': 6797,\n",
       " 'real': 5572,\n",
       " 'greetings': 3238,\n",
       " 'joy': 3851,\n",
       " 'gr8': 3207,\n",
       " 'evening': 2652,\n",
       " 'too': 6952,\n",
       " 'watching': 7380,\n",
       " 'surya': 6617,\n",
       " 'movie': 4592,\n",
       " 'pm': 5235,\n",
       " 'vijay': 7272,\n",
       " 'pokkiri': 5261,\n",
       " 'realy': 5582,\n",
       " 'recognise': 5607,\n",
       " 'number': 4836,\n",
       " 'confused': 1962,\n",
       " 'who': 7476,\n",
       " 'please': 5220,\n",
       " '80488': 649,\n",
       " '500': 539,\n",
       " 'valid': 7227,\n",
       " 'until': 7165,\n",
       " '31': 441,\n",
       " 'december': 2199,\n",
       " '2005': 356,\n",
       " 'guaranteed': 3260,\n",
       " '200': 352,\n",
       " 'award': 1166,\n",
       " 'even': 2651,\n",
       " '1000': 264,\n",
       " 'cashto': 1680,\n",
       " '08000407165': 51,\n",
       " 'getstop': 3115,\n",
       " '88222': 708,\n",
       " 'php': 5172,\n",
       " 'rg21': 5747,\n",
       " '4jx': 525,\n",
       " 'meanwhile': 4406,\n",
       " 'project': 5424,\n",
       " 'twins': 7074,\n",
       " 'comin': 1916,\n",
       " 'sounds': 6320,\n",
       " 'better': 1332,\n",
       " 'than': 6782,\n",
       " 'im': 3611,\n",
       " 'costume': 2025,\n",
       " 'sure': 6607,\n",
       " 'finish': 2857,\n",
       " 'end': 2578,\n",
       " 'really': 5581,\n",
       " 'work': 7574,\n",
       " 'doesnt': 2387,\n",
       " 'stressful': 6498,\n",
       " 'oops': 4932,\n",
       " 'check': 1756,\n",
       " 'picking': 5179,\n",
       " 'tomo': 6938,\n",
       " 'eight': 2544,\n",
       " 'station': 6435,\n",
       " 'ok': 4894,\n",
       " 'much': 4618,\n",
       " 'gave': 3080,\n",
       " 'morning': 4574,\n",
       " 'might': 4463,\n",
       " 'accidant': 787,\n",
       " 'tookplace': 6954,\n",
       " 'between': 1334,\n",
       " 'somewhere': 6289,\n",
       " 'ghodbandar': 3120,\n",
       " 'rd': 5559,\n",
       " 'traffic': 6988,\n",
       " 'moves': 4591,\n",
       " 'slovely': 6210,\n",
       " 'plz': 5234,\n",
       " 'slip': 6206,\n",
       " 'amp': 958,\n",
       " 'worry': 7583,\n",
       " 'officially': 4882,\n",
       " 'philosophical': 5160,\n",
       " 'hole': 3463,\n",
       " 'wanna': 7356,\n",
       " 'ready': 5571,\n",
       " '1st': 340,\n",
       " 'week': 7419,\n",
       " 'no1': 4776,\n",
       " 'nokia': 4782,\n",
       " 'tone': 6942,\n",
       " '8077': 651,\n",
       " 'txting': 7083,\n",
       " 'tell': 6736,\n",
       " 'getzed': 3118,\n",
       " 'pobox': 5239,\n",
       " '36504': 452,\n",
       " 'w45wq': 7321,\n",
       " 'norm150p': 4800,\n",
       " 'lol': 4179,\n",
       " 'dramatic': 2441,\n",
       " 'schools': 5917,\n",
       " 'closed': 1855,\n",
       " 'apparently': 1024,\n",
       " 'drive': 2457,\n",
       " 'inch': 3636,\n",
       " 'snow': 6254,\n",
       " 'supposed': 6603,\n",
       " 'ish': 3744,\n",
       " 'minutes': 4488,\n",
       " 'was': 7369,\n",
       " 'ago': 878,\n",
       " 'wtf': 7614,\n",
       " 'die': 2307,\n",
       " 'stuffs': 6528,\n",
       " 'once': 4913,\n",
       " 'sir': 6159,\n",
       " 'polyphonic': 5271,\n",
       " 'pt2': 5457,\n",
       " '87575': 703,\n",
       " 'txtin': 7082,\n",
       " 'friends': 3002,\n",
       " 'hl': 3442,\n",
       " '4info': 524,\n",
       " '8th': 728,\n",
       " 'done': 2411,\n",
       " 'kallis': 3888,\n",
       " 'bat': 1244,\n",
       " '2nd': 411,\n",
       " 'innings': 3679,\n",
       " 'mapquest': 4340,\n",
       " 'something': 6284,\n",
       " 'look': 4189,\n",
       " 'usf': 7206,\n",
       " 'dogwood': 2396,\n",
       " 'absolutly': 775,\n",
       " 'didnt': 2304,\n",
       " 'complete': 1935,\n",
       " 'gist': 3135,\n",
       " 'oh': 4889,\n",
       " 'depends': 2252,\n",
       " 'individual': 3659,\n",
       " 'dresser': 2451,\n",
       " 'pretty': 5374,\n",
       " 'parents': 5059,\n",
       " 'gong': 3174,\n",
       " 'kaypoh': 3903,\n",
       " 'also': 935,\n",
       " 'wat': 7375,\n",
       " 'collecting': 1898,\n",
       " 'eat': 2514,\n",
       " 'fo': 2915,\n",
       " 'lunch': 4256,\n",
       " 'senor': 5991,\n",
       " 'coffee': 1883,\n",
       " 'run': 5833,\n",
       " 'believe': 1308,\n",
       " 'romantic': 5792,\n",
       " 'paris': 5060,\n",
       " 'nights': 4762,\n",
       " 'flights': 2892,\n",
       " '79': 630,\n",
       " 'book': 1429,\n",
       " 'next': 4748,\n",
       " 'year': 7661,\n",
       " '08704439680ts': 85,\n",
       " 'cs': 2097,\n",
       " 'remember': 5660,\n",
       " 'old': 4904,\n",
       " 'commercial': 1920,\n",
       " 'prize': 5399,\n",
       " 'biz': 1371,\n",
       " 'polo': 5265,\n",
       " 'ltd': 4244,\n",
       " 'suite': 6571,\n",
       " '373': 454,\n",
       " 'london': 4183,\n",
       " 'w1j': 7316,\n",
       " '6hl': 603,\n",
       " 'busy': 1578,\n",
       " 'made': 4295,\n",
       " 'some': 6274,\n",
       " 'payments': 5103,\n",
       " 'fedex': 2796,\n",
       " 'other': 4977,\n",
       " 'campus': 1632,\n",
       " 'atm': 1122,\n",
       " 'could': 2032,\n",
       " 'hour': 3509,\n",
       " 'two': 7076,\n",
       " 'propose': 5442,\n",
       " 'networking': 4735,\n",
       " 'technical': 6726,\n",
       " 'support': 6600,\n",
       " 'associate': 1107,\n",
       " 'gloucesterroad': 3148,\n",
       " 'uup': 7216,\n",
       " 'let': 4080,\n",
       " 'why': 7483,\n",
       " 'its': 3759,\n",
       " 'falling': 2757,\n",
       " 'bcoz': 1266,\n",
       " 'force': 2937,\n",
       " 'yourself': 7698,\n",
       " 'fall': 2755,\n",
       " 'smeone': 6225,\n",
       " 'bslvyl': 1537,\n",
       " 'dollars': 2405,\n",
       " 'helloooo': 3394,\n",
       " 'wake': 7338,\n",
       " 'sweet': 6634,\n",
       " 'welcomes': 7434,\n",
       " 'full': 3031,\n",
       " 'gud': 3262,\n",
       " 'mrng': 4600,\n",
       " 'club': 1862,\n",
       " 'subs': 6539,\n",
       " 'expired': 2712,\n",
       " 'sub': 6536,\n",
       " 'monoc': 4560,\n",
       " 'monos': 4561,\n",
       " 'polyc': 5268,\n",
       " 'polys': 5272,\n",
       " 'stream': 6494,\n",
       " '0871212025016': 99,\n",
       " 'able': 767,\n",
       " 'anything': 1006,\n",
       " 'plus': 5232,\n",
       " 'workin': 7576,\n",
       " 'rite': 5772,\n",
       " 'orchard': 4958,\n",
       " 'place': 5201,\n",
       " 'liao': 4086,\n",
       " 'ground': 3248,\n",
       " 'amla': 950,\n",
       " 'durban': 2491,\n",
       " 'said': 5858,\n",
       " 'before': 1295,\n",
       " 'went': 7441,\n",
       " 'sleep': 6193,\n",
       " 'urgent': 7188,\n",
       " '0906346330': 213,\n",
       " 'abta': 778,\n",
       " 'complimentary': 1940,\n",
       " 'spanish': 6334,\n",
       " 'holiday': 3464,\n",
       " '10': 262,\n",
       " '000': 1,\n",
       " 'cash': 1677,\n",
       " 'await': 1163,\n",
       " 'collection': 1899,\n",
       " 'sae': 5852,\n",
       " 'box': 1456,\n",
       " '47': 509,\n",
       " 'po19': 5238,\n",
       " '2ez': 395,\n",
       " '150ppm': 312,\n",
       " 'cant': 1643,\n",
       " 'message': 4445,\n",
       " 'talk': 6678,\n",
       " 'him': 3431,\n",
       " 'ever': 2657,\n",
       " 'service': 6009,\n",
       " 'representative': 5693,\n",
       " '169': 322,\n",
       " '6031': 574,\n",
       " '10am': 270,\n",
       " '5000': 540,\n",
       " 'curious': 2119,\n",
       " 'because': 1280,\n",
       " 'cuz': 2136,\n",
       " 'asked': 1096,\n",
       " 'sry': 6404,\n",
       " 'da': 2141,\n",
       " 'jst': 3854,\n",
       " 'nw': 4846,\n",
       " 'came': 1629,\n",
       " '4mths': 527,\n",
       " 'orange': 4956,\n",
       " 'latest': 4027,\n",
       " 'phones': 5167,\n",
       " '11mths': 282,\n",
       " 'mobilesdirect': 4530,\n",
       " '08000938767': 55,\n",
       " 'update': 7172,\n",
       " 'or2stoptxt': 4954,\n",
       " '26th': 381,\n",
       " 'july': 3863,\n",
       " 'hurt': 3555,\n",
       " 'tease': 6723,\n",
       " 'cry': 2095,\n",
       " 'rose': 5801,\n",
       " 'grave': 3225,\n",
       " 'stupid': 6530,\n",
       " 'nice': 4752,\n",
       " 'fwiw': 3046,\n",
       " 'reason': 5583,\n",
       " 'around': 1071,\n",
       " 'smoke': 6233,\n",
       " 'gas': 3074,\n",
       " 'afford': 858,\n",
       " 'someone': 6278,\n",
       " 'tells': 6739,\n",
       " 'happens': 3329,\n",
       " 'somebody': 6276,\n",
       " 'wants': 7361,\n",
       " 'light': 4101,\n",
       " 'sent': 5997,\n",
       " 'lanre': 4014,\n",
       " 'fakeye': 2753,\n",
       " 'eckankar': 2521,\n",
       " 'mail': 4311,\n",
       " 'imagine': 3613,\n",
       " 'he': 3361,\n",
       " 'gentle': 3101,\n",
       " 'unlike': 7152,\n",
       " 'treat': 7013,\n",
       " 'their': 6804,\n",
       " 'patients': 5088,\n",
       " 'turkeys': 7061,\n",
       " 'thinking': 6830,\n",
       " 'reg': 5634,\n",
       " 'pract': 5327,\n",
       " 'lessons': 4079,\n",
       " 'flung': 2907,\n",
       " 'advance': 844,\n",
       " 'haha': 3294,\n",
       " 'wkly': 7542,\n",
       " 'fa': 2734,\n",
       " 'cup': 2115,\n",
       " 'final': 2846,\n",
       " 'tkts': 6905,\n",
       " '21st': 364,\n",
       " '87121': 698,\n",
       " 'receive': 5595,\n",
       " 'std': 6442,\n",
       " '08452810075over18': 71,\n",
       " '07732584351': 29,\n",
       " 'rodger': 5785,\n",
       " 'burns': 1569,\n",
       " 'tried': 7018,\n",
       " 'sms': 6238,\n",
       " 'delivery': 2237,\n",
       " 'ringtone': 5764,\n",
       " 'singles': 6154,\n",
       " 'chart': 1742,\n",
       " 'choose': 1808,\n",
       " 'top': 6960,\n",
       " 'quality': 5494,\n",
       " 'charge': 1735,\n",
       " 'same': 5872,\n",
       " 'wana': 7355,\n",
       " 'plan': 5206,\n",
       " 'trip': 7019,\n",
       " 'sometme': 6287,\n",
       " 'leh': 4066,\n",
       " 'mayb': 4391,\n",
       " 'meeting': 4416,\n",
       " 'tmr': 6910,\n",
       " 'speak': 6338,\n",
       " 'machan': 4287,\n",
       " 'hostel': 3502,\n",
       " 'jaya': 3798,\n",
       " 'tv': 7067,\n",
       " 'point': 5257,\n",
       " 'figure': 2832,\n",
       " 'thnk': 6839,\n",
       " 'calling': 1621,\n",
       " 'us': 7197,\n",
       " 'afternoon': 865,\n",
       " 'starshine': 6424,\n",
       " 'boytoy': 1477,\n",
       " 'does': 2385,\n",
       " 'ache': 800,\n",
       " 'fuck': 3020,\n",
       " 'sips': 6158,\n",
       " 'cappuccino': 1648,\n",
       " 'teasing': 6724,\n",
       " 'kiss': 3947,\n",
       " 'great': 3231,\n",
       " 'attend': 1127,\n",
       " 'rounds': 5806,\n",
       " 'today': 6921,\n",
       " 'reach': 5562,\n",
       " '09066612661': 244,\n",
       " 'landline': 4005,\n",
       " 'lux': 4264,\n",
       " 'costa': 2022,\n",
       " 'sol': 6268,\n",
       " 'ppm': 5322,\n",
       " '150': 306,\n",
       " 'james': 3784,\n",
       " '28': 383,\n",
       " 'eh74rr': 2543,\n",
       " 'use': 7200,\n",
       " 'heehee': 3386,\n",
       " 'funny': 3041,\n",
       " 'tho': 6842,\n",
       " 'alrite': 934,\n",
       " 'texted': 6774,\n",
       " 'pshew': 5453,\n",
       " 'missing': 4500,\n",
       " 'anytime': 1008,\n",
       " 'five': 2874,\n",
       " 'pounds': 5315,\n",
       " '08002888812': 57,\n",
       " 'lk': 4155,\n",
       " 'cine': 1823,\n",
       " 'yogasana': 7685,\n",
       " 'ì_': 7731,\n",
       " 'coming': 1917,\n",
       " 'friday': 2998,\n",
       " 'leave': 4055,\n",
       " 'pongal': 5273,\n",
       " 'getting': 3117,\n",
       " 'hanging': 3320,\n",
       " 'maangalyam': 4283,\n",
       " 'alaipayuthe': 905,\n",
       " 'set': 6013,\n",
       " 'callertune': 1618,\n",
       " 'callers': 1617,\n",
       " 'press': 5368,\n",
       " 'copy': 2011,\n",
       " 'cts': 2104,\n",
       " 'employee': 2573,\n",
       " 'darlin': 2164,\n",
       " 'meet': 4414,\n",
       " 'kate': 3898,\n",
       " 'xxx': 7639,\n",
       " 'story': 6487,\n",
       " 'peace': 5108,\n",
       " 'miracle': 4490,\n",
       " 'jesus': 3815,\n",
       " 'hav': 3351,\n",
       " 'blessed': 1387,\n",
       " 'month': 4563,\n",
       " 'ahead': 882,\n",
       " 'wish': 7522,\n",
       " 'merry': 4442,\n",
       " 'christmas': 1817,\n",
       " 'occasion': 4862,\n",
       " 'celebrated': 1703,\n",
       " 'reflection': 5627,\n",
       " 'values': 7232,\n",
       " 'desires': 2266,\n",
       " 'affections': 856,\n",
       " 'traditions': 6987,\n",
       " 'ideal': 3587,\n",
       " 'lovely': 4223,\n",
       " 'type': 7091,\n",
       " 'boye': 1473,\n",
       " 'faded': 2741,\n",
       " 'glory': 3147,\n",
       " 'ralphs': 5533,\n",
       " 'maybe': 4392,\n",
       " 'xx': 7636,\n",
       " 'thru': 6862,\n",
       " 'different': 2316,\n",
       " 'feeling': 2800,\n",
       " 'wavering': 7390,\n",
       " 'decisions': 2205,\n",
       " 'coping': 2009,\n",
       " 'heal': 3368,\n",
       " 'everything': 2665,\n",
       " 'sun': 6583,\n",
       " 'thk': 6837,\n",
       " 'anythin': 1005,\n",
       " 'lesson': 4078,\n",
       " 'pilates': 5189,\n",
       " 'noe': 4778,\n",
       " 'hor': 3493,\n",
       " '530': 557,\n",
       " 'ar': 1047,\n",
       " 'donno': 2412,\n",
       " 'scorable': 5920,\n",
       " 'saw': 5902,\n",
       " 'guys': 3280,\n",
       " 'dolls': 2406,\n",
       " 'last': 4021,\n",
       " 'patrick': 5089,\n",
       " 'swayze': 6631,\n",
       " 'rent': 5676,\n",
       " 'bank': 1221,\n",
       " 'authorise': 1146,\n",
       " 'payment': 5102,\n",
       " 'wil': 7495,\n",
       " 'space': 6329,\n",
       " 'big': 1348,\n",
       " 'hitter': 3439,\n",
       " 'anyway': 1009,\n",
       " 'important': 3624,\n",
       " 'prevent': 5375,\n",
       " 'dehydration': 2226,\n",
       " 'giving': 3140,\n",
       " 'her': 3406,\n",
       " 'enough': 2598,\n",
       " 'fluids': 2906,\n",
       " 'onwards': 4926,\n",
       " 'eve': 2649,\n",
       " 'working': 7577,\n",
       " 'voice': 7299,\n",
       " 'process': 5413,\n",
       " 'field': 2821,\n",
       " 'god': 3159,\n",
       " 'almost': 928,\n",
       " 'intro': 3711,\n",
       " 'covers': 2051,\n",
       " 'energy': 2584,\n",
       " 'trends': 7017,\n",
       " 'pros': 5444,\n",
       " 'cons': 1969,\n",
       " 'brief': 1506,\n",
       " 'description': 2262,\n",
       " 'nuclear': 4832,\n",
       " 'fusion': 3044,\n",
       " 'history': 3436,\n",
       " 'iter': 3756,\n",
       " 'jet': 3816,\n",
       " 'abt': 777,\n",
       " 'pages': 5031,\n",
       " 'specially': 6344,\n",
       " 'selected': 5974,\n",
       " '2000': 353,\n",
       " 'pound': 5313,\n",
       " '08712402050': 105,\n",
       " 'lines': 4122,\n",
       " 'close': 1854,\n",
       " 'cost': 2021,\n",
       " '10ppm': 273,\n",
       " 'ag': 868,\n",
       " 'promo': 5432,\n",
       " 'slice': 6201,\n",
       " 'breadstick': 1490,\n",
       " 'askd': 1095,\n",
       " 'hours': 3511,\n",
       " 'answer': 987,\n",
       " 'give': 3137,\n",
       " 'maga': 4301,\n",
       " 'money': 4554,\n",
       " 'yesterday': 7673,\n",
       " 'rude': 5823,\n",
       " 'think': 6827,\n",
       " 'teaching': 6718,\n",
       " 'twelve': 7068,\n",
       " 'lecture': 4059,\n",
       " 'thing': 6825,\n",
       " 'sday': 5940,\n",
       " 'joined': 3836,\n",
       " 'training': 6991,\n",
       " 'started': 6426,\n",
       " 'trying': 7041,\n",
       " 'contact': 1979,\n",
       " 'weekends': 7422,\n",
       " 'draw': 2443,\n",
       " 'shows': 6110,\n",
       " '09061701939': 201,\n",
       " 'code': 1882,\n",
       " 's89': 5844,\n",
       " '12hrs': 293,\n",
       " 'weekend': 7421,\n",
       " 'fool': 2929,\n",
       " 'stay': 6437,\n",
       " 'tough': 6977,\n",
       " 'optimistic': 4949,\n",
       " 'things': 6826,\n",
       " 'improve': 3630,\n",
       " 'little': 4148,\n",
       " 'darlings': 2166,\n",
       " 'far': 2771,\n",
       " 'û_': 7736,\n",
       " 'star': 6420,\n",
       " ...}"
      ]
     },
     "execution_count": 46,
     "metadata": {},
     "output_type": "execute_result"
    }
   ],
   "source": [
    "v.vocabulary_"
   ]
  },
  {
   "cell_type": "code",
   "execution_count": 48,
   "id": "d5e082a0",
   "metadata": {},
   "outputs": [
    {
     "data": {
      "text/plain": [
       "array(['00', '000', '000pes', ..., 'ûï', 'ûò', 'ûówell'], dtype=object)"
      ]
     },
     "execution_count": 48,
     "metadata": {},
     "output_type": "execute_result"
    }
   ],
   "source": [
    "v.get_feature_names_out()"
   ]
  },
  {
   "cell_type": "code",
   "execution_count": 49,
   "id": "2cd9de7b",
   "metadata": {},
   "outputs": [
    {
     "data": {
      "text/plain": [
       "array([[0, 0, 0, ..., 0, 0, 0],\n",
       "       [0, 0, 0, ..., 0, 0, 0],\n",
       "       [0, 0, 0, ..., 0, 0, 0],\n",
       "       [0, 0, 0, ..., 0, 0, 0]], dtype=int64)"
      ]
     },
     "execution_count": 49,
     "metadata": {},
     "output_type": "execute_result"
    }
   ],
   "source": [
    "X_train_np=X_train_cv.toarray()\n",
    "X_train_np[:4]"
   ]
  },
  {
   "cell_type": "code",
   "execution_count": 50,
   "id": "f5bc8458",
   "metadata": {},
   "outputs": [
    {
     "data": {
      "text/plain": [
       "(array([ 308,  319,  645,  968, 1440, 1747, 1749, 2175, 2409, 2562, 3110,\n",
       "        3596, 4105, 4603, 4740, 4870, 5244, 5555, 6349, 6350, 6627, 6915,\n",
       "        7039, 7077, 7688], dtype=int64),)"
      ]
     },
     "execution_count": 50,
     "metadata": {},
     "output_type": "execute_result"
    }
   ],
   "source": [
    "np.where(X_train_np[0]!=0)"
   ]
  },
  {
   "cell_type": "code",
   "execution_count": 51,
   "id": "933608f2",
   "metadata": {},
   "outputs": [
    {
     "data": {
      "text/plain": [
       "1119    Bored of speed dating? Try SPEEDCHAT, txt SPEE...\n",
       "250          Ranjith cal drpd Deeraj and deepak 5min hold\n",
       "2278    Hmm...Bad news...Hype park plaza $700 studio t...\n",
       "1792    WIN: We have a winner! Mr. T. Foley won an iPo...\n",
       "Name: text, dtype: object"
      ]
     },
     "execution_count": 51,
     "metadata": {},
     "output_type": "execute_result"
    }
   ],
   "source": [
    "X_train[:4]"
   ]
  },
  {
   "cell_type": "code",
   "execution_count": 52,
   "id": "a00d876a",
   "metadata": {},
   "outputs": [
    {
     "data": {
      "text/plain": [
       "\"Sorry, I can't text &amp; drive coherently, see you in twenty\""
      ]
     },
     "execution_count": 52,
     "metadata": {},
     "output_type": "execute_result"
    }
   ],
   "source": [
    "X_train[4013]"
   ]
  },
  {
   "cell_type": "code",
   "execution_count": 53,
   "id": "618fbbbe",
   "metadata": {},
   "outputs": [
    {
     "data": {
      "text/plain": [
       "0"
      ]
     },
     "execution_count": 53,
     "metadata": {},
     "output_type": "execute_result"
    }
   ],
   "source": [
    "X_train_np[0][140]  #not equal to 0"
   ]
  },
  {
   "cell_type": "markdown",
   "id": "115730f3",
   "metadata": {},
   "source": [
    "### Using naive bayes multinomial model as naive based is the best model to classify between two objects"
   ]
  },
  {
   "cell_type": "code",
   "execution_count": 54,
   "id": "3a3cb3fa",
   "metadata": {},
   "outputs": [
    {
     "data": {
      "text/html": [
       "<style>#sk-container-id-1 {color: black;background-color: white;}#sk-container-id-1 pre{padding: 0;}#sk-container-id-1 div.sk-toggleable {background-color: white;}#sk-container-id-1 label.sk-toggleable__label {cursor: pointer;display: block;width: 100%;margin-bottom: 0;padding: 0.3em;box-sizing: border-box;text-align: center;}#sk-container-id-1 label.sk-toggleable__label-arrow:before {content: \"▸\";float: left;margin-right: 0.25em;color: #696969;}#sk-container-id-1 label.sk-toggleable__label-arrow:hover:before {color: black;}#sk-container-id-1 div.sk-estimator:hover label.sk-toggleable__label-arrow:before {color: black;}#sk-container-id-1 div.sk-toggleable__content {max-height: 0;max-width: 0;overflow: hidden;text-align: left;background-color: #f0f8ff;}#sk-container-id-1 div.sk-toggleable__content pre {margin: 0.2em;color: black;border-radius: 0.25em;background-color: #f0f8ff;}#sk-container-id-1 input.sk-toggleable__control:checked~div.sk-toggleable__content {max-height: 200px;max-width: 100%;overflow: auto;}#sk-container-id-1 input.sk-toggleable__control:checked~label.sk-toggleable__label-arrow:before {content: \"▾\";}#sk-container-id-1 div.sk-estimator input.sk-toggleable__control:checked~label.sk-toggleable__label {background-color: #d4ebff;}#sk-container-id-1 div.sk-label input.sk-toggleable__control:checked~label.sk-toggleable__label {background-color: #d4ebff;}#sk-container-id-1 input.sk-hidden--visually {border: 0;clip: rect(1px 1px 1px 1px);clip: rect(1px, 1px, 1px, 1px);height: 1px;margin: -1px;overflow: hidden;padding: 0;position: absolute;width: 1px;}#sk-container-id-1 div.sk-estimator {font-family: monospace;background-color: #f0f8ff;border: 1px dotted black;border-radius: 0.25em;box-sizing: border-box;margin-bottom: 0.5em;}#sk-container-id-1 div.sk-estimator:hover {background-color: #d4ebff;}#sk-container-id-1 div.sk-parallel-item::after {content: \"\";width: 100%;border-bottom: 1px solid gray;flex-grow: 1;}#sk-container-id-1 div.sk-label:hover label.sk-toggleable__label {background-color: #d4ebff;}#sk-container-id-1 div.sk-serial::before {content: \"\";position: absolute;border-left: 1px solid gray;box-sizing: border-box;top: 0;bottom: 0;left: 50%;z-index: 0;}#sk-container-id-1 div.sk-serial {display: flex;flex-direction: column;align-items: center;background-color: white;padding-right: 0.2em;padding-left: 0.2em;position: relative;}#sk-container-id-1 div.sk-item {position: relative;z-index: 1;}#sk-container-id-1 div.sk-parallel {display: flex;align-items: stretch;justify-content: center;background-color: white;position: relative;}#sk-container-id-1 div.sk-item::before, #sk-container-id-1 div.sk-parallel-item::before {content: \"\";position: absolute;border-left: 1px solid gray;box-sizing: border-box;top: 0;bottom: 0;left: 50%;z-index: -1;}#sk-container-id-1 div.sk-parallel-item {display: flex;flex-direction: column;z-index: 1;position: relative;background-color: white;}#sk-container-id-1 div.sk-parallel-item:first-child::after {align-self: flex-end;width: 50%;}#sk-container-id-1 div.sk-parallel-item:last-child::after {align-self: flex-start;width: 50%;}#sk-container-id-1 div.sk-parallel-item:only-child::after {width: 0;}#sk-container-id-1 div.sk-dashed-wrapped {border: 1px dashed gray;margin: 0 0.4em 0.5em 0.4em;box-sizing: border-box;padding-bottom: 0.4em;background-color: white;}#sk-container-id-1 div.sk-label label {font-family: monospace;font-weight: bold;display: inline-block;line-height: 1.2em;}#sk-container-id-1 div.sk-label-container {text-align: center;}#sk-container-id-1 div.sk-container {/* jupyter's `normalize.less` sets `[hidden] { display: none; }` but bootstrap.min.css set `[hidden] { display: none !important; }` so we also need the `!important` here to be able to override the default hidden behavior on the sphinx rendered scikit-learn.org. See: https://github.com/scikit-learn/scikit-learn/issues/21755 */display: inline-block !important;position: relative;}#sk-container-id-1 div.sk-text-repr-fallback {display: none;}</style><div id=\"sk-container-id-1\" class=\"sk-top-container\"><div class=\"sk-text-repr-fallback\"><pre>MultinomialNB()</pre><b>In a Jupyter environment, please rerun this cell to show the HTML representation or trust the notebook. <br />On GitHub, the HTML representation is unable to render, please try loading this page with nbviewer.org.</b></div><div class=\"sk-container\" hidden><div class=\"sk-item\"><div class=\"sk-estimator sk-toggleable\"><input class=\"sk-toggleable__control sk-hidden--visually\" id=\"sk-estimator-id-1\" type=\"checkbox\" checked><label for=\"sk-estimator-id-1\" class=\"sk-toggleable__label sk-toggleable__label-arrow\">MultinomialNB</label><div class=\"sk-toggleable__content\"><pre>MultinomialNB()</pre></div></div></div></div></div>"
      ],
      "text/plain": [
       "MultinomialNB()"
      ]
     },
     "execution_count": 54,
     "metadata": {},
     "output_type": "execute_result"
    }
   ],
   "source": [
    "from sklearn.naive_bayes import MultinomialNB\n",
    "model=MultinomialNB()\n",
    "model.fit(X_train_cv,y_train)"
   ]
  },
  {
   "cell_type": "code",
   "execution_count": 55,
   "id": "d75b3ebe",
   "metadata": {},
   "outputs": [],
   "source": [
    "X_test_cv=v.transform(X_test)"
   ]
  },
  {
   "cell_type": "code",
   "execution_count": 56,
   "id": "5101aa84",
   "metadata": {},
   "outputs": [
    {
     "name": "stdout",
     "output_type": "stream",
     "text": [
      "              precision    recall  f1-score   support\n",
      "\n",
      "           0       0.99      1.00      0.99       973\n",
      "           1       0.98      0.92      0.95       142\n",
      "\n",
      "    accuracy                           0.99      1115\n",
      "   macro avg       0.99      0.96      0.97      1115\n",
      "weighted avg       0.99      0.99      0.99      1115\n",
      "\n"
     ]
    }
   ],
   "source": [
    "from sklearn.metrics import classification_report\n",
    "y_pred=model.predict(X_test_cv)\n",
    "print(classification_report(y_test,y_pred))"
   ]
  },
  {
   "cell_type": "code",
   "execution_count": 59,
   "id": "c2ae344e",
   "metadata": {},
   "outputs": [],
   "source": [
    "test_email = [\"Hey!, can we meet tomorrow?\",\n",
    "              \"Congratulations, you have won a lottery ticket worth $100000\"]\n"
   ]
  },
  {
   "cell_type": "code",
   "execution_count": 60,
   "id": "8e9956af",
   "metadata": {},
   "outputs": [
    {
     "data": {
      "text/plain": [
       "array([0, 1], dtype=int64)"
      ]
     },
     "execution_count": 60,
     "metadata": {},
     "output_type": "execute_result"
    }
   ],
   "source": [
    "test_email_count=v.transform(test_email)\n",
    "model.predict(test_email_count)"
   ]
  },
  {
   "cell_type": "code",
   "execution_count": 68,
   "id": "6b86baf4",
   "metadata": {},
   "outputs": [
    {
     "data": {
      "image/png": "[encoded data removed]",
      "text/plain": [
       "<Figure size 640x480 with 2 Axes>"
      ]
     },
     "metadata": {},
     "output_type": "display_data"
    }
   ],
   "source": [
    "import seaborn as sns\n",
    "import matplotlib.pyplot as plt\n",
    "from sklearn.metrics import confusion_matrix\n",
    "\n",
    "# Assuming you have true labels (y_true) and predicted labels (y_pred)\n",
    "conf_matrix = confusion_matrix(y_test, y_pred)\n",
    "sns.heatmap(conf_matrix, annot=True, fmt='d')\n",
    "plt.xlabel('Predicted')\n",
    "plt.ylabel('True')\n",
    "plt.title('Confusion Matrix')\n",
    "plt.show()"
   ]
  },
  {
   "cell_type": "code",
   "execution_count": 80,
   "id": "ab1333d4",
   "metadata": {},
   "outputs": [
    {
     "data": {
      "image/png": "[encoded data removed]",
      "text/plain": [
       "<Figure size 640x480 with 1 Axes>"
      ]
     },
     "metadata": {},
     "output_type": "display_data"
    }
   ],
   "source": [
    "import matplotlib.pyplot as plt\n",
    "\n",
    "# Calculate residuals\n",
    "residuals = y_test - y_pred\n",
    "\n",
    "# Create a scatter plot of fitted values (y_pred) vs. residuals\n",
    "plt.scatter(y_pred, residuals, c='g', alpha=0.6)\n",
    "plt.xlabel('Fitted values')\n",
    "plt.ylabel('Residuals')\n",
    "plt.title('Residual Plot')\n",
    "plt.axhline(y=0, color='k', linestyle='--')  # Add a horizontal line at y=0\n",
    "plt.show()"
   ]
  },
  {
   "cell_type": "code",
   "execution_count": 81,
   "id": "8d67759c",
   "metadata": {},
   "outputs": [
    {
     "data": {
      "image/png": "[encoded data removed]",
      "text/plain": [
       "<Figure size 640x480 with 1 Axes>"
      ]
     },
     "metadata": {},
     "output_type": "display_data"
    }
   ],
   "source": [
    "from sklearn.metrics import roc_curve, auc\n",
    "\n",
    "fpr, tpr, thresholds = roc_curve(y_test, y_pred)\n",
    "roc_auc = auc(fpr, tpr)\n",
    "\n",
    "plt.figure()\n",
    "plt.plot(fpr, tpr, color='darkorange', lw=2, label=f'ROC curve (area = {roc_auc:.2f})')\n",
    "plt.plot([0, 1], [0, 1], color='navy', lw=2, linestyle='--')\n",
    "plt.xlim([0.0, 1.0])\n",
    "plt.ylim([0.0, 1.05])\n",
    "plt.xlabel('False Positive Rate')\n",
    "plt.ylabel('True Positive Rate')\n",
    "plt.title('Receiver Operating Characteristic (ROC) Curve')\n",
    "plt.legend(loc='lower right')\n",
    "plt.show()"
   ]
  },
  {
   "cell_type": "code",
   "execution_count": 82,
   "id": "f08fa907",
   "metadata": {},
   "outputs": [
    {
     "data": {
      "image/png": "[encoded data removed]",
      "text/plain": [
       "<Figure size 640x480 with 1 Axes>"
      ]
     },
     "metadata": {},
     "output_type": "display_data"
    }
   ],
   "source": [
    "import matplotlib.pyplot as plt\n",
    "\n",
    "# Assuming you have true labels (y_true) and predicted labels (y_pred)\n",
    "plt.scatter(y_test, y_pred)\n",
    "plt.xlabel('True Values')\n",
    "plt.ylabel('Predictions')\n",
    "plt.title('True Values vs. Predictions')\n",
    "plt.show()"
   ]
  },
  {
   "cell_type": "code",
   "execution_count": 61,
   "id": "6c567071",
   "metadata": {},
   "outputs": [],
   "source": [
    "from sklearn.pipeline import Pipeline\n",
    "clf=Pipeline([('vectorizer',CountVectorizer()),\n",
    "              ('nb',MultinomialNB())])"
   ]
  },
  {
   "cell_type": "code",
   "execution_count": 62,
   "id": "66a5ce0f",
   "metadata": {},
   "outputs": [
    {
     "data": {
      "text/html": [
       "<style>#sk-container-id-2 {color: black;background-color: white;}#sk-container-id-2 pre{padding: 0;}#sk-container-id-2 div.sk-toggleable {background-color: white;}#sk-container-id-2 label.sk-toggleable__label {cursor: pointer;display: block;width: 100%;margin-bottom: 0;padding: 0.3em;box-sizing: border-box;text-align: center;}#sk-container-id-2 label.sk-toggleable__label-arrow:before {content: \"▸\";float: left;margin-right: 0.25em;color: #696969;}#sk-container-id-2 label.sk-toggleable__label-arrow:hover:before {color: black;}#sk-container-id-2 div.sk-estimator:hover label.sk-toggleable__label-arrow:before {color: black;}#sk-container-id-2 div.sk-toggleable__content {max-height: 0;max-width: 0;overflow: hidden;text-align: left;background-color: #f0f8ff;}#sk-container-id-2 div.sk-toggleable__content pre {margin: 0.2em;color: black;border-radius: 0.25em;background-color: #f0f8ff;}#sk-container-id-2 input.sk-toggleable__control:checked~div.sk-toggleable__content {max-height: 200px;max-width: 100%;overflow: auto;}#sk-container-id-2 input.sk-toggleable__control:checked~label.sk-toggleable__label-arrow:before {content: \"▾\";}#sk-container-id-2 div.sk-estimator input.sk-toggleable__control:checked~label.sk-toggleable__label {background-color: #d4ebff;}#sk-container-id-2 div.sk-label input.sk-toggleable__control:checked~label.sk-toggleable__label {background-color: #d4ebff;}#sk-container-id-2 input.sk-hidden--visually {border: 0;clip: rect(1px 1px 1px 1px);clip: rect(1px, 1px, 1px, 1px);height: 1px;margin: -1px;overflow: hidden;padding: 0;position: absolute;width: 1px;}#sk-container-id-2 div.sk-estimator {font-family: monospace;background-color: #f0f8ff;border: 1px dotted black;border-radius: 0.25em;box-sizing: border-box;margin-bottom: 0.5em;}#sk-container-id-2 div.sk-estimator:hover {background-color: #d4ebff;}#sk-container-id-2 div.sk-parallel-item::after {content: \"\";width: 100%;border-bottom: 1px solid gray;flex-grow: 1;}#sk-container-id-2 div.sk-label:hover label.sk-toggleable__label {background-color: #d4ebff;}#sk-container-id-2 div.sk-serial::before {content: \"\";position: absolute;border-left: 1px solid gray;box-sizing: border-box;top: 0;bottom: 0;left: 50%;z-index: 0;}#sk-container-id-2 div.sk-serial {display: flex;flex-direction: column;align-items: center;background-color: white;padding-right: 0.2em;padding-left: 0.2em;position: relative;}#sk-container-id-2 div.sk-item {position: relative;z-index: 1;}#sk-container-id-2 div.sk-parallel {display: flex;align-items: stretch;justify-content: center;background-color: white;position: relative;}#sk-container-id-2 div.sk-item::before, #sk-container-id-2 div.sk-parallel-item::before {content: \"\";position: absolute;border-left: 1px solid gray;box-sizing: border-box;top: 0;bottom: 0;left: 50%;z-index: -1;}#sk-container-id-2 div.sk-parallel-item {display: flex;flex-direction: column;z-index: 1;position: relative;background-color: white;}#sk-container-id-2 div.sk-parallel-item:first-child::after {align-self: flex-end;width: 50%;}#sk-container-id-2 div.sk-parallel-item:last-child::after {align-self: flex-start;width: 50%;}#sk-container-id-2 div.sk-parallel-item:only-child::after {width: 0;}#sk-container-id-2 div.sk-dashed-wrapped {border: 1px dashed gray;margin: 0 0.4em 0.5em 0.4em;box-sizing: border-box;padding-bottom: 0.4em;background-color: white;}#sk-container-id-2 div.sk-label label {font-family: monospace;font-weight: bold;display: inline-block;line-height: 1.2em;}#sk-container-id-2 div.sk-label-container {text-align: center;}#sk-container-id-2 div.sk-container {/* jupyter's `normalize.less` sets `[hidden] { display: none; }` but bootstrap.min.css set `[hidden] { display: none !important; }` so we also need the `!important` here to be able to override the default hidden behavior on the sphinx rendered scikit-learn.org. See: https://github.com/scikit-learn/scikit-learn/issues/21755 */display: inline-block !important;position: relative;}#sk-container-id-2 div.sk-text-repr-fallback {display: none;}</style><div id=\"sk-container-id-2\" class=\"sk-top-container\"><div class=\"sk-text-repr-fallback\"><pre>Pipeline(steps=[(&#x27;vectorizer&#x27;, CountVectorizer()), (&#x27;nb&#x27;, MultinomialNB())])</pre><b>In a Jupyter environment, please rerun this cell to show the HTML representation or trust the notebook. <br />On GitHub, the HTML representation is unable to render, please try loading this page with nbviewer.org.</b></div><div class=\"sk-container\" hidden><div class=\"sk-item sk-dashed-wrapped\"><div class=\"sk-label-container\"><div class=\"sk-label sk-toggleable\"><input class=\"sk-toggleable__control sk-hidden--visually\" id=\"sk-estimator-id-2\" type=\"checkbox\" ><label for=\"sk-estimator-id-2\" class=\"sk-toggleable__label sk-toggleable__label-arrow\">Pipeline</label><div class=\"sk-toggleable__content\"><pre>Pipeline(steps=[(&#x27;vectorizer&#x27;, CountVectorizer()), (&#x27;nb&#x27;, MultinomialNB())])</pre></div></div></div><div class=\"sk-serial\"><div class=\"sk-item\"><div class=\"sk-estimator sk-toggleable\"><input class=\"sk-toggleable__control sk-hidden--visually\" id=\"sk-estimator-id-3\" type=\"checkbox\" ><label for=\"sk-estimator-id-3\" class=\"sk-toggleable__label sk-toggleable__label-arrow\">CountVectorizer</label><div class=\"sk-toggleable__content\"><pre>CountVectorizer()</pre></div></div></div><div class=\"sk-item\"><div class=\"sk-estimator sk-toggleable\"><input class=\"sk-toggleable__control sk-hidden--visually\" id=\"sk-estimator-id-4\" type=\"checkbox\" ><label for=\"sk-estimator-id-4\" class=\"sk-toggleable__label sk-toggleable__label-arrow\">MultinomialNB</label><div class=\"sk-toggleable__content\"><pre>MultinomialNB()</pre></div></div></div></div></div></div></div>"
      ],
      "text/plain": [
       "Pipeline(steps=[('vectorizer', CountVectorizer()), ('nb', MultinomialNB())])"
      ]
     },
     "execution_count": 62,
     "metadata": {},
     "output_type": "execute_result"
    }
   ],
   "source": [
    "clf.fit(X_train,y_train)"
   ]
  },
  {
   "cell_type": "code",
   "execution_count": 63,
   "id": "a66c7dca",
   "metadata": {},
   "outputs": [
    {
     "name": "stdout",
     "output_type": "stream",
     "text": [
      "              precision    recall  f1-score   support\n",
      "\n",
      "           0       0.99      1.00      0.99       973\n",
      "           1       0.98      0.92      0.95       142\n",
      "\n",
      "    accuracy                           0.99      1115\n",
      "   macro avg       0.99      0.96      0.97      1115\n",
      "weighted avg       0.99      0.99      0.99      1115\n",
      "\n"
     ]
    }
   ],
   "source": [
    "print(classification_report(y_test,clf.predict(X_test)))"
   ]
  },
  {
   "cell_type": "code",
   "execution_count": 69,
   "id": "f780cdae",
   "metadata": {},
   "outputs": [
    {
     "data": {
      "image/png": "[encoded data removed]",
      "text/plain": [
       "<Figure size 640x480 with 2 Axes>"
      ]
     },
     "metadata": {},
     "output_type": "display_data"
    }
   ],
   "source": [
    "import seaborn as sns\n",
    "import matplotlib.pyplot as plt\n",
    "from sklearn.metrics import confusion_matrix\n",
    "\n",
    "# Assuming you have true labels (y_true) and predicted labels (y_pred)\n",
    "conf_matrix = confusion_matrix(y_test, y_pred)\n",
    "sns.heatmap(conf_matrix, annot=True, fmt='d')\n",
    "plt.xlabel('Predicted')\n",
    "plt.ylabel('True')\n",
    "plt.title('Confusion Matrix')\n",
    "plt.show()"
   ]
  },
  {
   "cell_type": "code",
   "execution_count": 79,
   "id": "08cfecfb",
   "metadata": {},
   "outputs": [
    {
     "data": {
      "image/png": "[encoded data removed]",
      "text/plain": [
       "<Figure size 640x480 with 1 Axes>"
      ]
     },
     "metadata": {},
     "output_type": "display_data"
    }
   ],
   "source": [
    "import matplotlib.pyplot as plt\n",
    "\n",
    "# Calculate residuals\n",
    "residuals = y_test - y_pred\n",
    "\n",
    "# Create a scatter plot of fitted values (y_pred) vs. residuals\n",
    "plt.scatter(y_pred, residuals, c='g', alpha=0.6)\n",
    "plt.xlabel('Fitted values')\n",
    "plt.ylabel('Residuals')\n",
    "plt.title('Residual Plot')\n",
    "plt.axhline(y=0, color='k', linestyle='--')  # Add a horizontal line at y=0\n",
    "plt.show()"
   ]
  },
  {
   "cell_type": "code",
   "execution_count": 76,
   "id": "71991a08",
   "metadata": {},
   "outputs": [
    {
     "data": {
      "image/png": "[encoded data removed]",
      "text/plain": [
       "<Figure size 640x480 with 1 Axes>"
      ]
     },
     "metadata": {},
     "output_type": "display_data"
    }
   ],
   "source": [
    "from sklearn.metrics import roc_curve, auc\n",
    "\n",
    "fpr, tpr, thresholds = roc_curve(y_test, y_pred)\n",
    "roc_auc = auc(fpr, tpr)\n",
    "\n",
    "plt.figure()\n",
    "plt.plot(fpr, tpr, color='darkorange', lw=2, label=f'ROC curve (area = {roc_auc:.2f})')\n",
    "plt.plot([0, 1], [0, 1], color='navy', lw=2, linestyle='--')\n",
    "plt.xlim([0.0, 1.0])\n",
    "plt.ylim([0.0, 1.05])\n",
    "plt.xlabel('False Positive Rate')\n",
    "plt.ylabel('True Positive Rate')\n",
    "plt.title('Receiver Operating Characteristic (ROC) Curve')\n",
    "plt.legend(loc='lower right')\n",
    "plt.show()\n"
   ]
  },
  {
   "cell_type": "code",
   "execution_count": 73,
   "id": "56c00fb7",
   "metadata": {},
   "outputs": [
    {
     "data": {
      "image/png": "[encoded data removed]",
      "text/plain": [
       "<Figure size 640x480 with 1 Axes>"
      ]
     },
     "metadata": {},
     "output_type": "display_data"
    }
   ],
   "source": [
    "import matplotlib.pyplot as plt\n",
    "\n",
    "# Assuming you have true labels (y_true) and predicted labels (y_pred)\n",
    "plt.scatter(y_test, y_pred)\n",
    "plt.xlabel('True Values')\n",
    "plt.ylabel('Predictions')\n",
    "plt.title('True Values vs. Predictions')\n",
    "plt.show()"
   ]
  },
  {
   "cell_type": "markdown",
   "id": "0bf34eb1",
   "metadata": {},
   "source": [
    "### The result obtained by NLP and machine learning is almost same.\n",
    "### The precision score is 0.99 from both the algorithms."
   ]
  }
 ],
 "metadata": {
  "kernelspec": {
   "display_name": "Python 3 (ipykernel)",
   "language": "python",
   "name": "python3"
  },
  "language_info": {
   "codemirror_mode": {
    "name": "ipython",
    "version": 3
   },
   "file_extension": ".py",
   "mimetype": "text/x-python",
   "name": "python",
   "nbconvert_exporter": "python",
   "pygments_lexer": "ipython3",
   "version": "3.10.9"
  }
 },
 "nbformat": 4,
 "nbformat_minor": 5
}
